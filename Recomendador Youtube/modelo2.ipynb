{
 "cells": [
  {
   "cell_type": "code",
   "execution_count": 1,
   "source": [
    "import pandas as pd\r\n",
    "import numpy as np\r\n",
    "\r\n",
    "from sklearn.model_selection import train_test_split\r\n",
    "from sklearn.ensemble import RandomForestClassifier"
   ],
   "outputs": [],
   "metadata": {}
  },
  {
   "cell_type": "code",
   "execution_count": 2,
   "source": [
    "features = pd.read_excel('raw_data_with_labels.xlsx')\r\n",
    "features = features[features['y'].notnull()]\r\n",
    "features.shape"
   ],
   "outputs": [
    {
     "output_type": "execute_result",
     "data": {
      "text/plain": [
       "(500, 5)"
      ]
     },
     "metadata": {},
     "execution_count": 2
    }
   ],
   "metadata": {}
  },
  {
   "cell_type": "code",
   "execution_count": 3,
   "source": [
    "features['view_per_day'] = round(features['view_count'] / features['tempo_desde_pub'], 4)\r\n",
    "features = features.drop(['tempo_desde_pub'], axis=1)\r\n",
    "features.head()"
   ],
   "outputs": [
    {
     "output_type": "execute_result",
     "data": {
      "text/plain": [
       "                                               title    y upload_date  \\\n",
       "0              How Far is Too Far? | The Age of A.I.  0.0  2019-12-18   \n",
       "1  AlphaGo - The Movie | Full award-winning docum...  0.0  2020-03-13   \n",
       "2  Artificial intelligence and algorithms: pros a...  0.0  2019-09-26   \n",
       "3  #AndroidDevChallenge - Helpful innovation, pow...  0.0  2020-06-22   \n",
       "4  Become a DATA ANALYST with NO degree?!? The Go...  0.0  2021-03-17   \n",
       "\n",
       "   view_count  view_per_day  \n",
       "0    49218295    79002.0787  \n",
       "1    26896993    50087.5102  \n",
       "2     6424768     9100.2380  \n",
       "3     5779436    13255.5872  \n",
       "4     2037151    12125.8988  "
      ],
      "text/html": [
       "<div>\n",
       "<style scoped>\n",
       "    .dataframe tbody tr th:only-of-type {\n",
       "        vertical-align: middle;\n",
       "    }\n",
       "\n",
       "    .dataframe tbody tr th {\n",
       "        vertical-align: top;\n",
       "    }\n",
       "\n",
       "    .dataframe thead th {\n",
       "        text-align: right;\n",
       "    }\n",
       "</style>\n",
       "<table border=\"1\" class=\"dataframe\">\n",
       "  <thead>\n",
       "    <tr style=\"text-align: right;\">\n",
       "      <th></th>\n",
       "      <th>title</th>\n",
       "      <th>y</th>\n",
       "      <th>upload_date</th>\n",
       "      <th>view_count</th>\n",
       "      <th>view_per_day</th>\n",
       "    </tr>\n",
       "  </thead>\n",
       "  <tbody>\n",
       "    <tr>\n",
       "      <th>0</th>\n",
       "      <td>How Far is Too Far? | The Age of A.I.</td>\n",
       "      <td>0.0</td>\n",
       "      <td>2019-12-18</td>\n",
       "      <td>49218295</td>\n",
       "      <td>79002.0787</td>\n",
       "    </tr>\n",
       "    <tr>\n",
       "      <th>1</th>\n",
       "      <td>AlphaGo - The Movie | Full award-winning docum...</td>\n",
       "      <td>0.0</td>\n",
       "      <td>2020-03-13</td>\n",
       "      <td>26896993</td>\n",
       "      <td>50087.5102</td>\n",
       "    </tr>\n",
       "    <tr>\n",
       "      <th>2</th>\n",
       "      <td>Artificial intelligence and algorithms: pros a...</td>\n",
       "      <td>0.0</td>\n",
       "      <td>2019-09-26</td>\n",
       "      <td>6424768</td>\n",
       "      <td>9100.2380</td>\n",
       "    </tr>\n",
       "    <tr>\n",
       "      <th>3</th>\n",
       "      <td>#AndroidDevChallenge - Helpful innovation, pow...</td>\n",
       "      <td>0.0</td>\n",
       "      <td>2020-06-22</td>\n",
       "      <td>5779436</td>\n",
       "      <td>13255.5872</td>\n",
       "    </tr>\n",
       "    <tr>\n",
       "      <th>4</th>\n",
       "      <td>Become a DATA ANALYST with NO degree?!? The Go...</td>\n",
       "      <td>0.0</td>\n",
       "      <td>2021-03-17</td>\n",
       "      <td>2037151</td>\n",
       "      <td>12125.8988</td>\n",
       "    </tr>\n",
       "  </tbody>\n",
       "</table>\n",
       "</div>"
      ]
     },
     "metadata": {},
     "execution_count": 3
    }
   ],
   "metadata": {}
  },
  {
   "cell_type": "code",
   "execution_count": 18,
   "source": [
    "features.columns[(features.dtypes == 'int64').to_numpy()]"
   ],
   "outputs": [
    {
     "output_type": "execute_result",
     "data": {
      "text/plain": [
       "Index(['view_count'], dtype='object')"
      ]
     },
     "metadata": {},
     "execution_count": 18
    }
   ],
   "metadata": {}
  },
  {
   "cell_type": "code",
   "execution_count": 9,
   "source": [
    "X = features.copy().drop(['y', 'upload_date'], axis=1)\r\n",
    "y = features['y']"
   ],
   "outputs": [],
   "metadata": {}
  },
  {
   "cell_type": "code",
   "execution_count": 10,
   "source": [
    "Xtrain, Xval, ytrain, yval = train_test_split(X, y, test_size=0.5, random_state=0)\r\n",
    "Xtrain.shape, Xval.shape, ytrain.shape, yval.shape"
   ],
   "outputs": [
    {
     "output_type": "execute_result",
     "data": {
      "text/plain": [
       "((250, 3), (250, 3), (250,), (250,))"
      ]
     },
     "metadata": {},
     "execution_count": 10
    }
   ],
   "metadata": {}
  },
  {
   "cell_type": "code",
   "execution_count": 16,
   "source": [
    "from sklearn.feature_extraction.text import TfidfVectorizer\r\n",
    "\r\n",
    "title_train = Xtrain['title']\r\n",
    "title_val = Xval['title']\r\n",
    "\r\n",
    "title_vec = TfidfVectorizer(min_df=2) #min_df = minimo de exemplos de palavra\r\n",
    "title_bow_train = title_vec.fit_transform(title_train)\r\n",
    "title_bow_val = title_vec.transform(title_val)"
   ],
   "outputs": [],
   "metadata": {}
  },
  {
   "cell_type": "code",
   "execution_count": 18,
   "source": [
    "title_bow_train.shape"
   ],
   "outputs": [
    {
     "output_type": "execute_result",
     "data": {
      "text/plain": [
       "(250, 238)"
      ]
     },
     "metadata": {},
     "execution_count": 18
    }
   ],
   "metadata": {}
  },
  {
   "cell_type": "code",
   "execution_count": 20,
   "source": [
    "from scipy.sparse import hstack, vstack\r\n",
    "\r\n",
    "Xtrain_wtitle = hstack([Xtrain.drop(['title'], axis=1), title_bow_train])\r\n",
    "Xval_wtitle = hstack([Xval.drop(['title'], axis=1), title_bow_val])"
   ],
   "outputs": [],
   "metadata": {}
  },
  {
   "cell_type": "code",
   "execution_count": 26,
   "source": [
    "Xtrain_wtitle.shape, Xval_wtitle.shape"
   ],
   "outputs": [
    {
     "output_type": "execute_result",
     "data": {
      "text/plain": [
       "((250, 240), (250, 240))"
      ]
     },
     "metadata": {},
     "execution_count": 26
    }
   ],
   "metadata": {}
  },
  {
   "cell_type": "code",
   "execution_count": 28,
   "source": [
    "mdl = RandomForestClassifier(n_estimators=1000, random_state=0, class_weight='balanced', n_jobs=6)\r\n",
    "mdl.fit(Xtrain_wtitle, ytrain)"
   ],
   "outputs": [
    {
     "output_type": "execute_result",
     "data": {
      "text/plain": [
       "RandomForestClassifier(class_weight='balanced', n_estimators=1000, n_jobs=6,\n",
       "                       random_state=0)"
      ]
     },
     "metadata": {},
     "execution_count": 28
    }
   ],
   "metadata": {}
  },
  {
   "cell_type": "code",
   "execution_count": 30,
   "source": [
    "p = mdl.predict_proba(Xval_wtitle)[ : , 1]"
   ],
   "outputs": [],
   "metadata": {}
  },
  {
   "cell_type": "code",
   "execution_count": 31,
   "source": [
    "from sklearn.metrics import roc_auc_score, average_precision_score"
   ],
   "outputs": [],
   "metadata": {}
  },
  {
   "cell_type": "code",
   "execution_count": 32,
   "source": [
    "average_precision_score(yval, p)"
   ],
   "outputs": [
    {
     "output_type": "execute_result",
     "data": {
      "text/plain": [
       "0.32909939825559575"
      ]
     },
     "metadata": {},
     "execution_count": 32
    }
   ],
   "metadata": {}
  },
  {
   "cell_type": "code",
   "execution_count": 33,
   "source": [
    "roc_auc_score(yval, p)"
   ],
   "outputs": [
    {
     "output_type": "execute_result",
     "data": {
      "text/plain": [
       "0.7491956241956242"
      ]
     },
     "metadata": {},
     "execution_count": 33
    }
   ],
   "metadata": {}
  },
  {
   "cell_type": "code",
   "execution_count": null,
   "source": [],
   "outputs": [],
   "metadata": {}
  }
 ],
 "metadata": {
  "orig_nbformat": 4,
  "language_info": {
   "name": "python",
   "version": "3.8.8",
   "mimetype": "text/x-python",
   "codemirror_mode": {
    "name": "ipython",
    "version": 3
   },
   "pygments_lexer": "ipython3",
   "nbconvert_exporter": "python",
   "file_extension": ".py"
  },
  "kernelspec": {
   "name": "python3",
   "display_name": "Python 3.8.8 64-bit ('base': conda)"
  },
  "interpreter": {
   "hash": "587a51ddbfb680f90d5c22d4e7cd2f588780df6b3eef39086aba3fbb77a2077c"
  }
 },
 "nbformat": 4,
 "nbformat_minor": 2
}